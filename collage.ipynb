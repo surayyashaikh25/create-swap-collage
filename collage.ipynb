{
 "cells": [
  {
   "cell_type": "code",
   "execution_count": 30,
   "metadata": {},
   "outputs": [],
   "source": [
    "#collage of images\n",
    "import cv2"
   ]
  },
  {
   "cell_type": "code",
   "execution_count": 27,
   "metadata": {},
   "outputs": [],
   "source": [
    "# Cordinates of Daenerys Face\n",
    "dx1 = 180\n",
    "dy1 = 0\n",
    "dx2 = 375\n",
    "dy2 = 500\n",
    "\n",
    "# Read Daenerys Image\n",
    "danny = cv2.imread('dannyc.jpg')\n",
    "\n",
    "# Crop Daenerys face\n",
    "dFace = danny[dy1:dy2, dx1:dx2]\n",
    "\n",
    "# Display face\n",
    "cv2.imshow(\"Danny\", dFace)\n",
    "cv2.waitKey()\n",
    "cv2.destroyAllWindows()"
   ]
  },
  {
   "cell_type": "code",
   "execution_count": 28,
   "metadata": {},
   "outputs": [],
   "source": [
    "# Cordinates of Daenerys Face\n",
    "cx1 = 0\n",
    "cy1 = 0\n",
    "cx2 = 190\n",
    "cy2 = 500\n",
    "\n",
    "# Read cersei  Image\n",
    "cersie = cv2.imread('cersie.jpg')\n",
    "\n",
    "# Crop cersei  face\n",
    "cFace = cersie[cy1:cy2, cx1:cx2]\n",
    "\n",
    "# Display face\n",
    "cv2.imshow(\"Cersei\", cFace)\n",
    "cv2.waitKey()\n",
    "cv2.destroyAllWindows()"
   ]
  },
  {
   "cell_type": "code",
   "execution_count": 29,
   "metadata": {},
   "outputs": [],
   "source": [
    "# Create collage\n",
    "import numpy as np \n",
    "collageh = np.hstack((cFace  ,dFace ))\n",
    "\n",
    "# Display image\n",
    "cv2.imshow(\"Collage\", collageh)\n",
    "cv2.waitKey()\n",
    "cv2.destroyAllWindows()"
   ]
  },
  {
   "cell_type": "code",
   "execution_count": null,
   "metadata": {},
   "outputs": [],
   "source": []
  }
 ],
 "metadata": {
  "kernelspec": {
   "display_name": "Python 3",
   "language": "python",
   "name": "python3"
  },
  "language_info": {
   "codemirror_mode": {
    "name": "ipython",
    "version": 3
   },
   "file_extension": ".py",
   "mimetype": "text/x-python",
   "name": "python",
   "nbconvert_exporter": "python",
   "pygments_lexer": "ipython3",
   "version": "3.7.6"
  }
 },
 "nbformat": 4,
 "nbformat_minor": 4
}
