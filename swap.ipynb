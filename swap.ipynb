{
 "cells": [
  {
   "cell_type": "code",
   "execution_count": 16,
   "metadata": {},
   "outputs": [],
   "source": [
    "import cv2"
   ]
  },
  {
   "cell_type": "code",
   "execution_count": 17,
   "metadata": {},
   "outputs": [],
   "source": [
    "# Read Daenerys Image\n",
    "danny = cv2.imread('dannyc.jpg')\n",
    "\n",
    "# Display Daenerys image\n",
    "cv2.imshow(\"Danny\", danny)\n",
    "cv2.waitKey()\n",
    "cv2.destroyAllWindows()"
   ]
  },
  {
   "cell_type": "code",
   "execution_count": 4,
   "metadata": {},
   "outputs": [],
   "source": [
    "# Cordinates of Daenerys Face\n",
    "dx1 = 140\n",
    "dy1 = 40\n",
    "dx2 = 250\n",
    "dy2 = 180\n",
    "\n",
    "# Crop Daenerys face\n",
    "dFace = danny[dy1:dy2, dx1:dx2]\n",
    "\n",
    "# Display face\n",
    "cv2.imshow(\"Danny\", dFace)\n",
    "cv2.waitKey()\n",
    "cv2.destroyAllWindows()"
   ]
  },
  {
   "cell_type": "code",
   "execution_count": 5,
   "metadata": {},
   "outputs": [],
   "source": [
    "# Read Cersei Image\n",
    "cersie = cv2.imread('cersie.jpg')\n",
    "\n",
    "# Diplay Cersei Image\n",
    "cv2.imshow(\"Cersie\", cersie)\n",
    "cv2.waitKey()\n",
    "cv2.destroyAllWindows()"
   ]
  },
  {
   "cell_type": "code",
   "execution_count": 6,
   "metadata": {},
   "outputs": [],
   "source": [
    "# Cordinates of Cersei Face\n",
    "cx1 = 140\n",
    "cy1 = 40\n",
    "cx2 = 250\n",
    "cy2 = 180\n",
    "\n",
    "# Crop Cersei face\n",
    "cFace = cersie[cy1:cy2, cx1:cx2]\n",
    "\n",
    "# Display face\n",
    "cv2.imshow(\"Cersei\", cFace)\n",
    "cv2.waitKey()\n",
    "cv2.destroyAllWindows()"
   ]
  },
  {
   "cell_type": "code",
   "execution_count": 9,
   "metadata": {},
   "outputs": [
    {
     "data": {
      "text/plain": [
       "(500, 375, 3)"
      ]
     },
     "execution_count": 9,
     "metadata": {},
     "output_type": "execute_result"
    }
   ],
   "source": [
    "danny.shape"
   ]
  },
  {
   "cell_type": "code",
   "execution_count": 10,
   "metadata": {},
   "outputs": [
    {
     "data": {
      "text/plain": [
       "(500, 375, 3)"
      ]
     },
     "execution_count": 10,
     "metadata": {},
     "output_type": "execute_result"
    }
   ],
   "source": [
    "cersie.shape"
   ]
  },
  {
   "cell_type": "code",
   "execution_count": 8,
   "metadata": {},
   "outputs": [],
   "source": [
    "# Swap the face of Danny with Cersei\n",
    "danny = cv2.imread('dannyc.jpg')\n",
    "danny[dy1:dy2, dx1:dx2] = cFace\n",
    "\n",
    "# Display swapped image\n",
    "cv2.imshow(\"Danny\", danny)\n",
    "cv2.waitKey()\n",
    "cv2.destroyAllWindows()"
   ]
  },
  {
   "cell_type": "code",
   "execution_count": 10,
   "metadata": {},
   "outputs": [],
   "source": [
    "# Swap the face of Cersei with Danny\n",
    "cersie = cv2.imread('cersie.jpg')\n",
    "cersie[cy1:cy2, cx1:cx2] = dFace\n",
    "\n",
    "# Display Image\n",
    "cv2.imshow(\"Cersie\", cersie)\n",
    "cv2.waitKey()\n",
    "cv2.destroyAllWindows()"
   ]
  }
 ],
 "metadata": {
  "kernelspec": {
   "display_name": "Python 3",
   "language": "python",
   "name": "python3"
  },
  "language_info": {
   "codemirror_mode": {
    "name": "ipython",
    "version": 3
   },
   "file_extension": ".py",
   "mimetype": "text/x-python",
   "name": "python",
   "nbconvert_exporter": "python",
   "pygments_lexer": "ipython3",
   "version": "3.7.6"
  }
 },
 "nbformat": 4,
 "nbformat_minor": 4
}
